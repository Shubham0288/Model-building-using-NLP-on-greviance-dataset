{
 "cells": [
  {
   "cell_type": "code",
   "execution_count": 1,
   "id": "5d258f32",
   "metadata": {},
   "outputs": [],
   "source": [
    "import pandas as pd"
   ]
  },
  {
   "cell_type": "code",
   "execution_count": 2,
   "id": "d22625b9",
   "metadata": {},
   "outputs": [
    {
     "name": "stderr",
     "output_type": "stream",
     "text": [
      "C:\\Users\\shubh\\AppData\\Local\\Temp\\ipykernel_2244\\3911817285.py:1: DtypeWarning: Columns (16) have mixed types. Specify dtype option on import or set low_memory=False.\n",
      "  gv=pd.read_csv('D:\\Imarticus Learning\\DATASETS\\greviance.csv')\n"
     ]
    }
   ],
   "source": [
    "gv=pd.read_csv('D:\\Imarticus Learning\\DATASETS\\greviance.csv')"
   ]
  },
  {
   "cell_type": "code",
   "execution_count": 3,
   "id": "6a2eb077",
   "metadata": {},
   "outputs": [
    {
     "data": {
      "text/html": [
       "<div>\n",
       "<style scoped>\n",
       "    .dataframe tbody tr th:only-of-type {\n",
       "        vertical-align: middle;\n",
       "    }\n",
       "\n",
       "    .dataframe tbody tr th {\n",
       "        vertical-align: top;\n",
       "    }\n",
       "\n",
       "    .dataframe thead th {\n",
       "        text-align: right;\n",
       "    }\n",
       "</style>\n",
       "<table border=\"1\" class=\"dataframe\">\n",
       "  <thead>\n",
       "    <tr style=\"text-align: right;\">\n",
       "      <th></th>\n",
       "      <th>Date received</th>\n",
       "      <th>Product</th>\n",
       "      <th>Sub-product</th>\n",
       "      <th>Issue</th>\n",
       "      <th>Sub-issue</th>\n",
       "      <th>Consumer complaint narrative</th>\n",
       "      <th>Company public response</th>\n",
       "      <th>Company</th>\n",
       "      <th>State</th>\n",
       "      <th>ZIP code</th>\n",
       "      <th>Tags</th>\n",
       "      <th>Consumer consent provided?</th>\n",
       "      <th>Submitted via</th>\n",
       "      <th>Date sent to company</th>\n",
       "      <th>Company response to consumer</th>\n",
       "      <th>Timely response?</th>\n",
       "      <th>Consumer disputed?</th>\n",
       "      <th>Complaint ID</th>\n",
       "    </tr>\n",
       "  </thead>\n",
       "  <tbody>\n",
       "    <tr>\n",
       "      <th>0</th>\n",
       "      <td>2023-10-27</td>\n",
       "      <td>Credit reporting or other personal consumer re...</td>\n",
       "      <td>Credit reporting</td>\n",
       "      <td>Incorrect information on your report</td>\n",
       "      <td>Information belongs to someone else</td>\n",
       "      <td>NaN</td>\n",
       "      <td>NaN</td>\n",
       "      <td>Experian Information Solutions Inc.</td>\n",
       "      <td>FL</td>\n",
       "      <td>33181</td>\n",
       "      <td>NaN</td>\n",
       "      <td>NaN</td>\n",
       "      <td>Web</td>\n",
       "      <td>2023-10-27</td>\n",
       "      <td>In progress</td>\n",
       "      <td>Yes</td>\n",
       "      <td>NaN</td>\n",
       "      <td>7766284</td>\n",
       "    </tr>\n",
       "    <tr>\n",
       "      <th>1</th>\n",
       "      <td>2023-10-23</td>\n",
       "      <td>Credit reporting or other personal consumer re...</td>\n",
       "      <td>Credit reporting</td>\n",
       "      <td>Incorrect information on your report</td>\n",
       "      <td>Account information incorrect</td>\n",
       "      <td>NaN</td>\n",
       "      <td>NaN</td>\n",
       "      <td>Self Financial Inc.</td>\n",
       "      <td>CA</td>\n",
       "      <td>92109</td>\n",
       "      <td>NaN</td>\n",
       "      <td>NaN</td>\n",
       "      <td>Web</td>\n",
       "      <td>2023-11-07</td>\n",
       "      <td>Closed with explanation</td>\n",
       "      <td>Yes</td>\n",
       "      <td>NaN</td>\n",
       "      <td>7745570</td>\n",
       "    </tr>\n",
       "    <tr>\n",
       "      <th>2</th>\n",
       "      <td>2023-05-04</td>\n",
       "      <td>Debt collection</td>\n",
       "      <td>Credit card debt</td>\n",
       "      <td>Attempts to collect debt not owed</td>\n",
       "      <td>Debt was already discharged in bankruptcy and ...</td>\n",
       "      <td>My personal identifying information was used t...</td>\n",
       "      <td>Company has responded to the consumer and the ...</td>\n",
       "      <td>Experian Information Solutions Inc.</td>\n",
       "      <td>NC</td>\n",
       "      <td>28269</td>\n",
       "      <td>NaN</td>\n",
       "      <td>Consent provided</td>\n",
       "      <td>Web</td>\n",
       "      <td>2023-06-13</td>\n",
       "      <td>Closed with non-monetary relief</td>\n",
       "      <td>Yes</td>\n",
       "      <td>NaN</td>\n",
       "      <td>6928521</td>\n",
       "    </tr>\n",
       "    <tr>\n",
       "      <th>3</th>\n",
       "      <td>2023-11-09</td>\n",
       "      <td>Credit reporting or other personal consumer re...</td>\n",
       "      <td>Credit reporting</td>\n",
       "      <td>Improper use of your report</td>\n",
       "      <td>Credit inquiries on your report that you don't...</td>\n",
       "      <td>NaN</td>\n",
       "      <td>NaN</td>\n",
       "      <td>EQUIFAX, INC.</td>\n",
       "      <td>SC</td>\n",
       "      <td>29486</td>\n",
       "      <td>NaN</td>\n",
       "      <td>NaN</td>\n",
       "      <td>Web</td>\n",
       "      <td>2023-11-09</td>\n",
       "      <td>In progress</td>\n",
       "      <td>Yes</td>\n",
       "      <td>NaN</td>\n",
       "      <td>7825790</td>\n",
       "    </tr>\n",
       "    <tr>\n",
       "      <th>4</th>\n",
       "      <td>2023-10-26</td>\n",
       "      <td>Credit reporting or other personal consumer re...</td>\n",
       "      <td>Credit reporting</td>\n",
       "      <td>Incorrect information on your report</td>\n",
       "      <td>Information belongs to someone else</td>\n",
       "      <td>NaN</td>\n",
       "      <td>NaN</td>\n",
       "      <td>Experian Information Solutions Inc.</td>\n",
       "      <td>CA</td>\n",
       "      <td>92880</td>\n",
       "      <td>NaN</td>\n",
       "      <td>NaN</td>\n",
       "      <td>Web</td>\n",
       "      <td>2023-10-26</td>\n",
       "      <td>In progress</td>\n",
       "      <td>Yes</td>\n",
       "      <td>NaN</td>\n",
       "      <td>7756715</td>\n",
       "    </tr>\n",
       "  </tbody>\n",
       "</table>\n",
       "</div>"
      ],
      "text/plain": [
       "  Date received                                            Product  \\\n",
       "0    2023-10-27  Credit reporting or other personal consumer re...   \n",
       "1    2023-10-23  Credit reporting or other personal consumer re...   \n",
       "2    2023-05-04                                    Debt collection   \n",
       "3    2023-11-09  Credit reporting or other personal consumer re...   \n",
       "4    2023-10-26  Credit reporting or other personal consumer re...   \n",
       "\n",
       "        Sub-product                                 Issue  \\\n",
       "0  Credit reporting  Incorrect information on your report   \n",
       "1  Credit reporting  Incorrect information on your report   \n",
       "2  Credit card debt     Attempts to collect debt not owed   \n",
       "3  Credit reporting           Improper use of your report   \n",
       "4  Credit reporting  Incorrect information on your report   \n",
       "\n",
       "                                           Sub-issue  \\\n",
       "0                Information belongs to someone else   \n",
       "1                      Account information incorrect   \n",
       "2  Debt was already discharged in bankruptcy and ...   \n",
       "3  Credit inquiries on your report that you don't...   \n",
       "4                Information belongs to someone else   \n",
       "\n",
       "                        Consumer complaint narrative  \\\n",
       "0                                                NaN   \n",
       "1                                                NaN   \n",
       "2  My personal identifying information was used t...   \n",
       "3                                                NaN   \n",
       "4                                                NaN   \n",
       "\n",
       "                             Company public response  \\\n",
       "0                                                NaN   \n",
       "1                                                NaN   \n",
       "2  Company has responded to the consumer and the ...   \n",
       "3                                                NaN   \n",
       "4                                                NaN   \n",
       "\n",
       "                               Company State ZIP code Tags  \\\n",
       "0  Experian Information Solutions Inc.    FL    33181  NaN   \n",
       "1                  Self Financial Inc.    CA    92109  NaN   \n",
       "2  Experian Information Solutions Inc.    NC    28269  NaN   \n",
       "3                        EQUIFAX, INC.    SC    29486  NaN   \n",
       "4  Experian Information Solutions Inc.    CA    92880  NaN   \n",
       "\n",
       "  Consumer consent provided? Submitted via Date sent to company  \\\n",
       "0                        NaN           Web           2023-10-27   \n",
       "1                        NaN           Web           2023-11-07   \n",
       "2           Consent provided           Web           2023-06-13   \n",
       "3                        NaN           Web           2023-11-09   \n",
       "4                        NaN           Web           2023-10-26   \n",
       "\n",
       "      Company response to consumer Timely response? Consumer disputed?  \\\n",
       "0                      In progress              Yes                NaN   \n",
       "1          Closed with explanation              Yes                NaN   \n",
       "2  Closed with non-monetary relief              Yes                NaN   \n",
       "3                      In progress              Yes                NaN   \n",
       "4                      In progress              Yes                NaN   \n",
       "\n",
       "   Complaint ID  \n",
       "0       7766284  \n",
       "1       7745570  \n",
       "2       6928521  \n",
       "3       7825790  \n",
       "4       7756715  "
      ]
     },
     "execution_count": 3,
     "metadata": {},
     "output_type": "execute_result"
    }
   ],
   "source": [
    "gv.head()"
   ]
  },
  {
   "cell_type": "code",
   "execution_count": 4,
   "id": "aac1d5cc",
   "metadata": {},
   "outputs": [
    {
     "data": {
      "text/plain": [
       "Index(['Date received', 'Product', 'Sub-product', 'Issue', 'Sub-issue',\n",
       "       'Consumer complaint narrative', 'Company public response', 'Company',\n",
       "       'State', 'ZIP code', 'Tags', 'Consumer consent provided?',\n",
       "       'Submitted via', 'Date sent to company', 'Company response to consumer',\n",
       "       'Timely response?', 'Consumer disputed?', 'Complaint ID'],\n",
       "      dtype='object')"
      ]
     },
     "execution_count": 4,
     "metadata": {},
     "output_type": "execute_result"
    }
   ],
   "source": [
    "gv.columns"
   ]
  },
  {
   "cell_type": "code",
   "execution_count": 5,
   "id": "1472b19f",
   "metadata": {},
   "outputs": [],
   "source": [
    "gv.rename(columns={'Product':'Y'},inplace=True)"
   ]
  },
  {
   "cell_type": "code",
   "execution_count": 6,
   "id": "f2c786e6",
   "metadata": {},
   "outputs": [
    {
     "data": {
      "text/plain": [
       "array(['Credit reporting or other personal consumer reports',\n",
       "       'Debt collection', 'Checking or savings account', 'Student loan',\n",
       "       'Mortgage',\n",
       "       'Credit reporting, credit repair services, or other personal consumer reports',\n",
       "       'Credit card', 'Vehicle loan or lease',\n",
       "       'Payday loan, title loan, personal loan, or advance loan',\n",
       "       'Payday loan, title loan, or personal loan',\n",
       "       'Money transfer, virtual currency, or money service',\n",
       "       'Prepaid card', 'Credit card or prepaid card', 'Consumer Loan',\n",
       "       'Debt or credit management', 'Payday loan',\n",
       "       'Bank account or service', 'Credit reporting',\n",
       "       'Other financial service', 'Money transfers', 'Virtual currency'],\n",
       "      dtype=object)"
      ]
     },
     "execution_count": 6,
     "metadata": {},
     "output_type": "execute_result"
    }
   ],
   "source": [
    "gv.Y.unique()"
   ]
  },
  {
   "cell_type": "code",
   "execution_count": 7,
   "id": "8e69062b",
   "metadata": {},
   "outputs": [],
   "source": [
    "gv.Y.replace({'Credit reporting or other personal consumer reports':0,\n",
    "       'Debt collection':1, 'Checking or savings account':2, 'Student loan':3,\n",
    "       'Mortgage':4,\n",
    "       'Credit reporting, credit repair services, or other personal consumer reports':0,\n",
    "       'Credit card':5, 'Vehicle loan or lease':9,\n",
    "       'Payday loan, title loan, personal loan, or advance loan':6,\n",
    "       'Payday loan, title loan, or personal loan':6,\n",
    "       'Money transfer, virtual currency, or money service':7,\n",
    "       'Prepaid card':5, 'Credit card or prepaid card':5, 'Consumer Loan':8,\n",
    "       'Debt or credit management':10, 'Payday loan':6,\n",
    "       'Bank account or service':11, 'Credit reporting':0,\n",
    "       'Other financial service':12, 'Money transfers':7, 'Virtual currency':7},inplace=True)"
   ]
  },
  {
   "cell_type": "code",
   "execution_count": 8,
   "id": "d8fe2f81",
   "metadata": {},
   "outputs": [],
   "source": [
    "gv['Issue']=gv['Issue'].astype(str)\n",
    "gv['Company']=gv['Company'].astype(str)\n",
    "gv['Consumer complaint narrative']=gv['Consumer complaint narrative'].astype(str)\n",
    "gv['Company public response']=gv['Company public response'].astype(str)\n",
    "gv['Company response to consumer']=gv['Company response to consumer'].astype(str)\n",
    "gv['Timely response?']=gv['Timely response?'].astype(str)"
   ]
  },
  {
   "cell_type": "code",
   "execution_count": 9,
   "id": "2cb20abf",
   "metadata": {},
   "outputs": [],
   "source": [
    "gv['X']=gv['Issue']+\"  \"+gv['Company']+\"  \"+gv['Consumer complaint narrative']+\"  \"+gv['Company public response']+\"  \"+gv['Company response to consumer']"
   ]
  },
  {
   "cell_type": "code",
   "execution_count": 10,
   "id": "1f176a71",
   "metadata": {},
   "outputs": [],
   "source": [
    "gv['X']=gv['X'].str.lower()"
   ]
  },
  {
   "cell_type": "code",
   "execution_count": 11,
   "id": "f4a00451",
   "metadata": {},
   "outputs": [],
   "source": [
    "import nltk\n",
    "from nltk.corpus import stopwords\n",
    "import string\n",
    "string.punctuation\n",
    "l1=string.punctuation\n",
    "l2=stopwords.words(\"english\")\n",
    "def text_process(mess):            ### creating a function\n",
    "\n",
    "    \"\"\"                                                        ## a docstring\n",
    "\n",
    "    1. remove the punctuation\n",
    "\n",
    "    2. remove the stopwords\n",
    "\n",
    "    3. return the list of clean textwords\n",
    "\n",
    "    \"\"\"\n",
    "    nopunc = [char for char in mess if char not in l1]\n",
    "\n",
    "    nopunc = \"\".join(nopunc)\n",
    "\n",
    "    return [ word for word in nopunc.split() if word not in l2]"
   ]
  },
  {
   "cell_type": "code",
   "execution_count": 12,
   "id": "750499b6",
   "metadata": {},
   "outputs": [],
   "source": [
    "from sklearn.feature_extraction.text import CountVectorizer"
   ]
  },
  {
   "cell_type": "code",
   "execution_count": 13,
   "id": "5df5696b",
   "metadata": {},
   "outputs": [],
   "source": [
    "bow_transformer=CountVectorizer(analyzer=text_process).fit(gv['X'])"
   ]
  },
  {
   "cell_type": "code",
   "execution_count": 14,
   "id": "b879ba49",
   "metadata": {},
   "outputs": [],
   "source": [
    "gv_bow=bow_transformer.transform(gv.X)"
   ]
  },
  {
   "cell_type": "code",
   "execution_count": 15,
   "id": "cdfe8596",
   "metadata": {},
   "outputs": [],
   "source": [
    "from sklearn.model_selection import train_test_split"
   ]
  },
  {
   "cell_type": "code",
   "execution_count": 16,
   "id": "ee41441c",
   "metadata": {},
   "outputs": [],
   "source": [
    "train_x, test_x, train_y, test_y = train_test_split(gv_bow, gv.Y,random_state=123,test_size=.2)"
   ]
  },
  {
   "cell_type": "code",
   "execution_count": 17,
   "id": "688fcfb7",
   "metadata": {},
   "outputs": [
    {
     "name": "stderr",
     "output_type": "stream",
     "text": [
      "C:\\ProgramData\\anaconda3\\lib\\site-packages\\sklearn\\linear_model\\_logistic.py:458: ConvergenceWarning: lbfgs failed to converge (status=1):\n",
      "STOP: TOTAL NO. of ITERATIONS REACHED LIMIT.\n",
      "\n",
      "Increase the number of iterations (max_iter) or scale the data as shown in:\n",
      "    https://scikit-learn.org/stable/modules/preprocessing.html\n",
      "Please also refer to the documentation for alternative solver options:\n",
      "    https://scikit-learn.org/stable/modules/linear_model.html#logistic-regression\n",
      "  n_iter_i = _check_optimize_result(\n"
     ]
    },
    {
     "data": {
      "text/html": [
       "<style>#sk-container-id-1 {color: black;background-color: white;}#sk-container-id-1 pre{padding: 0;}#sk-container-id-1 div.sk-toggleable {background-color: white;}#sk-container-id-1 label.sk-toggleable__label {cursor: pointer;display: block;width: 100%;margin-bottom: 0;padding: 0.3em;box-sizing: border-box;text-align: center;}#sk-container-id-1 label.sk-toggleable__label-arrow:before {content: \"▸\";float: left;margin-right: 0.25em;color: #696969;}#sk-container-id-1 label.sk-toggleable__label-arrow:hover:before {color: black;}#sk-container-id-1 div.sk-estimator:hover label.sk-toggleable__label-arrow:before {color: black;}#sk-container-id-1 div.sk-toggleable__content {max-height: 0;max-width: 0;overflow: hidden;text-align: left;background-color: #f0f8ff;}#sk-container-id-1 div.sk-toggleable__content pre {margin: 0.2em;color: black;border-radius: 0.25em;background-color: #f0f8ff;}#sk-container-id-1 input.sk-toggleable__control:checked~div.sk-toggleable__content {max-height: 200px;max-width: 100%;overflow: auto;}#sk-container-id-1 input.sk-toggleable__control:checked~label.sk-toggleable__label-arrow:before {content: \"▾\";}#sk-container-id-1 div.sk-estimator input.sk-toggleable__control:checked~label.sk-toggleable__label {background-color: #d4ebff;}#sk-container-id-1 div.sk-label input.sk-toggleable__control:checked~label.sk-toggleable__label {background-color: #d4ebff;}#sk-container-id-1 input.sk-hidden--visually {border: 0;clip: rect(1px 1px 1px 1px);clip: rect(1px, 1px, 1px, 1px);height: 1px;margin: -1px;overflow: hidden;padding: 0;position: absolute;width: 1px;}#sk-container-id-1 div.sk-estimator {font-family: monospace;background-color: #f0f8ff;border: 1px dotted black;border-radius: 0.25em;box-sizing: border-box;margin-bottom: 0.5em;}#sk-container-id-1 div.sk-estimator:hover {background-color: #d4ebff;}#sk-container-id-1 div.sk-parallel-item::after {content: \"\";width: 100%;border-bottom: 1px solid gray;flex-grow: 1;}#sk-container-id-1 div.sk-label:hover label.sk-toggleable__label {background-color: #d4ebff;}#sk-container-id-1 div.sk-serial::before {content: \"\";position: absolute;border-left: 1px solid gray;box-sizing: border-box;top: 0;bottom: 0;left: 50%;z-index: 0;}#sk-container-id-1 div.sk-serial {display: flex;flex-direction: column;align-items: center;background-color: white;padding-right: 0.2em;padding-left: 0.2em;position: relative;}#sk-container-id-1 div.sk-item {position: relative;z-index: 1;}#sk-container-id-1 div.sk-parallel {display: flex;align-items: stretch;justify-content: center;background-color: white;position: relative;}#sk-container-id-1 div.sk-item::before, #sk-container-id-1 div.sk-parallel-item::before {content: \"\";position: absolute;border-left: 1px solid gray;box-sizing: border-box;top: 0;bottom: 0;left: 50%;z-index: -1;}#sk-container-id-1 div.sk-parallel-item {display: flex;flex-direction: column;z-index: 1;position: relative;background-color: white;}#sk-container-id-1 div.sk-parallel-item:first-child::after {align-self: flex-end;width: 50%;}#sk-container-id-1 div.sk-parallel-item:last-child::after {align-self: flex-start;width: 50%;}#sk-container-id-1 div.sk-parallel-item:only-child::after {width: 0;}#sk-container-id-1 div.sk-dashed-wrapped {border: 1px dashed gray;margin: 0 0.4em 0.5em 0.4em;box-sizing: border-box;padding-bottom: 0.4em;background-color: white;}#sk-container-id-1 div.sk-label label {font-family: monospace;font-weight: bold;display: inline-block;line-height: 1.2em;}#sk-container-id-1 div.sk-label-container {text-align: center;}#sk-container-id-1 div.sk-container {/* jupyter's `normalize.less` sets `[hidden] { display: none; }` but bootstrap.min.css set `[hidden] { display: none !important; }` so we also need the `!important` here to be able to override the default hidden behavior on the sphinx rendered scikit-learn.org. See: https://github.com/scikit-learn/scikit-learn/issues/21755 */display: inline-block !important;position: relative;}#sk-container-id-1 div.sk-text-repr-fallback {display: none;}</style><div id=\"sk-container-id-1\" class=\"sk-top-container\"><div class=\"sk-text-repr-fallback\"><pre>LogisticRegression(class_weight=&#x27;balanced&#x27;)</pre><b>In a Jupyter environment, please rerun this cell to show the HTML representation or trust the notebook. <br />On GitHub, the HTML representation is unable to render, please try loading this page with nbviewer.org.</b></div><div class=\"sk-container\" hidden><div class=\"sk-item\"><div class=\"sk-estimator sk-toggleable\"><input class=\"sk-toggleable__control sk-hidden--visually\" id=\"sk-estimator-id-1\" type=\"checkbox\" checked><label for=\"sk-estimator-id-1\" class=\"sk-toggleable__label sk-toggleable__label-arrow\">LogisticRegression</label><div class=\"sk-toggleable__content\"><pre>LogisticRegression(class_weight=&#x27;balanced&#x27;)</pre></div></div></div></div></div>"
      ],
      "text/plain": [
       "LogisticRegression(class_weight='balanced')"
      ]
     },
     "execution_count": 17,
     "metadata": {},
     "output_type": "execute_result"
    }
   ],
   "source": [
    "from sklearn.linear_model import LogisticRegression        \n",
    "lr=LogisticRegression(class_weight='balanced')\n",
    "lr.fit(train_x,train_y)"
   ]
  },
  {
   "cell_type": "code",
   "execution_count": 18,
   "id": "bf50d6d0",
   "metadata": {},
   "outputs": [],
   "source": [
    "from sklearn.metrics import confusion_matrix, classification_report, accuracy_score, recall_score,f1_score"
   ]
  },
  {
   "cell_type": "code",
   "execution_count": 19,
   "id": "9ae812e5",
   "metadata": {},
   "outputs": [
    {
     "data": {
      "text/plain": [
       "array([[477261,   1201,    322,   2585,    939,   7814,   4296,    619,\n",
       "           244,   9147,    293,     75,    260],\n",
       "       [   289, 101089,     46,    143,    185,    323,    456,    104,\n",
       "            83,    188,      7,     48,     20],\n",
       "       [   130,     26,  35801,      7,     31,    735,     84,    546,\n",
       "            37,     70,      4,    281,      2],\n",
       "       [   110,     17,      6,  15546,      1,     13,    148,      1,\n",
       "           124,     31,      1,      7,      6],\n",
       "       [   524,    112,     60,     24,  74969,    934,    303,     69,\n",
       "            63,    236,      3,     61,     11],\n",
       "       [  2070,    250,   1298,     32,     56,  56339,    956,    866,\n",
       "           105,    272,     31,    164,    194],\n",
       "       [   199,     28,      8,     25,     28,    233,   6650,     50,\n",
       "            39,    246,      2,     14,      1],\n",
       "       [     9,     16,    179,      2,     18,    175,     64,  12213,\n",
       "             7,     10,    181,     35,    365],\n",
       "       [     9,     14,     21,     15,      4,      9,    146,      4,\n",
       "          5635,    416,      0,      6,      1],\n",
       "       [   294,     15,      6,      7,      5,     64,    224,      8,\n",
       "          1376,   7688,      1,      0,      0],\n",
       "       [     0,      0,      0,      0,      1,      2,      1,      2,\n",
       "             0,      0,     34,      0,      0],\n",
       "       [     2,      4,    104,      2,     14,     60,     15,     42,\n",
       "            11,      3,      3,  17011,      2],\n",
       "       [     1,      3,      2,      2,      2,      1,      3,     35,\n",
       "             1,      1,      0,      1,    173]], dtype=int64)"
      ]
     },
     "execution_count": 19,
     "metadata": {},
     "output_type": "execute_result"
    }
   ],
   "source": [
    "pred_log = lr.predict(test_x)\n",
    "tab1 = confusion_matrix(test_y,pred_log)\n",
    "tab1"
   ]
  },
  {
   "cell_type": "code",
   "execution_count": 20,
   "id": "e1e461f6",
   "metadata": {},
   "outputs": [
    {
     "name": "stdout",
     "output_type": "stream",
     "text": [
      "              precision    recall  f1-score   support\n",
      "\n",
      "           0       0.99      0.94      0.97    505056\n",
      "           1       0.98      0.98      0.98    102981\n",
      "           2       0.95      0.95      0.95     37754\n",
      "           3       0.85      0.97      0.90     16011\n",
      "           4       0.98      0.97      0.98     77369\n",
      "           5       0.84      0.90      0.87     62633\n",
      "           6       0.50      0.88      0.64      7523\n",
      "           7       0.84      0.92      0.88     13274\n",
      "           8       0.73      0.90      0.80      6280\n",
      "           9       0.42      0.79      0.55      9688\n",
      "          10       0.06      0.85      0.11        40\n",
      "          11       0.96      0.98      0.97     17273\n",
      "          12       0.17      0.77      0.27       225\n",
      "\n",
      "    accuracy                           0.95    856107\n",
      "   macro avg       0.71      0.91      0.76    856107\n",
      "weighted avg       0.96      0.95      0.95    856107\n",
      "\n"
     ]
    }
   ],
   "source": [
    "print(classification_report(test_y,pred_log))"
   ]
  },
  {
   "cell_type": "code",
   "execution_count": null,
   "id": "fe7a85e5",
   "metadata": {},
   "outputs": [],
   "source": []
  },
  {
   "cell_type": "code",
   "execution_count": null,
   "id": "2bef0905",
   "metadata": {},
   "outputs": [],
   "source": []
  },
  {
   "cell_type": "code",
   "execution_count": null,
   "id": "0a2f67d5",
   "metadata": {},
   "outputs": [],
   "source": []
  }
 ],
 "metadata": {
  "kernelspec": {
   "display_name": "Python 3 (ipykernel)",
   "language": "python",
   "name": "python3"
  },
  "language_info": {
   "codemirror_mode": {
    "name": "ipython",
    "version": 3
   },
   "file_extension": ".py",
   "mimetype": "text/x-python",
   "name": "python",
   "nbconvert_exporter": "python",
   "pygments_lexer": "ipython3",
   "version": "3.10.9"
  }
 },
 "nbformat": 4,
 "nbformat_minor": 5
}
